{
 "cells": [
  {
   "cell_type": "code",
   "execution_count": 1,
   "metadata": {},
   "outputs": [
    {
     "name": "stdout",
     "output_type": "stream",
     "text": [
      "p:  0.2\n",
      "The probability of getting a “D” exactly 5 times is : 0.0295312043\n"
     ]
    }
   ],
   "source": [
    "# A die marked A to E is rolled 50 times. Find the probability of getting a “D” exactly 5 times\n",
    "\n",
    "# Importing libraries\n",
    "from scipy.stats import binom\n",
    "\n",
    "# No. of Trails =  No. of times the die is rolled i.e. 50\n",
    "n=50\n",
    "\n",
    "# The die has to roll a “D” exactly 5 times\n",
    "success = 5\n",
    "\n",
    "# Probability of getting \"D\" when rolled once is =  1/5\n",
    "p = 1/5\n",
    "print(\"p: \", p)\n",
    "p:  0.2\n",
    "\n",
    "# PMF is the function that we can use to get the probability of exact values\n",
    "print(\"The probability of getting a “D” exactly 5 times is : {:0.10f}\".format(binom.pmf(success,n,p)))\n"
   ]
  },
  {
   "cell_type": "code",
   "execution_count": null,
   "metadata": {},
   "outputs": [],
   "source": []
  }
 ],
 "metadata": {
  "kernelspec": {
   "display_name": "Python 3",
   "language": "python",
   "name": "python3"
  },
  "language_info": {
   "codemirror_mode": {
    "name": "ipython",
    "version": 3
   },
   "file_extension": ".py",
   "mimetype": "text/x-python",
   "name": "python",
   "nbconvert_exporter": "python",
   "pygments_lexer": "ipython3",
   "version": "3.6.4"
  }
 },
 "nbformat": 4,
 "nbformat_minor": 2
}
