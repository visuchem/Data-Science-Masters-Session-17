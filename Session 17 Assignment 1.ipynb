{
 "cells": [
  {
   "cell_type": "markdown",
   "metadata": {},
   "source": [
    "# A test is conducted which is consisting of 20 MCQs (multiple choices questions) with\n",
    "# every MCQ having its four options out of which only one is correct. Determine the\n",
    "# probability that a person undertaking that test has answered exactly 5 questions wrong"
   ]
  },
  {
   "cell_type": "code",
   "execution_count": 1,
   "metadata": {},
   "outputs": [
    {
     "name": "stdout",
     "output_type": "stream",
     "text": [
      "0.75\n"
     ]
    }
   ],
   "source": [
    "# Importing libraries\n",
    "from scipy.stats import binom\n",
    "# No. of Trails = No.of multiple choice questions\n",
    "n = 20\n",
    "\n",
    "# Number of questions answered wrong  = 5\n",
    "success = 5\n",
    " \n",
    "# Probability of getting a question right  = 1 - (No. of correct answers per question/Total number of possible answers per question)\n",
    "p = 1 - (1/4)\n",
    "print(p)"
   ]
  },
  {
   "cell_type": "code",
   "execution_count": 2,
   "metadata": {},
   "outputs": [
    {
     "name": "stdout",
     "output_type": "stream",
     "text": [
      "The probability that a person undertaking the test answered exactly 5 questions wrong is : 0.0000034265\n"
     ]
    }
   ],
   "source": [
    "# PMF is the function that we can use to get the probability of exact values\n",
    "print(\"The probability that a person undertaking the test answered exactly 5 questions wrong is : {:0.10f}\".format(binom.pmf(success, n, p)))"
   ]
  },
  {
   "cell_type": "code",
   "execution_count": null,
   "metadata": {},
   "outputs": [],
   "source": []
  }
 ],
 "metadata": {
  "kernelspec": {
   "display_name": "Python 3",
   "language": "python",
   "name": "python3"
  },
  "language_info": {
   "codemirror_mode": {
    "name": "ipython",
    "version": 3
   },
   "file_extension": ".py",
   "mimetype": "text/x-python",
   "name": "python",
   "nbconvert_exporter": "python",
   "pygments_lexer": "ipython3",
   "version": "3.6.4"
  }
 },
 "nbformat": 4,
 "nbformat_minor": 2
}
